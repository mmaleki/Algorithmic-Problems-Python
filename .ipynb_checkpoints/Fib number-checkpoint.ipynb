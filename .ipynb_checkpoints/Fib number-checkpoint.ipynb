{
 "cells": [
  {
   "cell_type": "markdown",
   "metadata": {},
   "source": [
    "# 1 \n",
    "Find the nearest distance of X to a fibonaci number. For example solution(15) should be 2 since,\n",
    "0,1,1,2,3,5,8,13,21,...\n",
    "and nearest fibonacci number to 15 is 13 and 15-13=2 is the answer."
   ]
  },
  {
   "cell_type": "code",
   "execution_count": 1,
   "metadata": {},
   "outputs": [],
   "source": [
    "def fib(i):\n",
    "    if i==0 or i==1:\n",
    "        return i\n",
    "    else:\n",
    "        return fib(i-1)+fib(i-2)"
   ]
  },
  {
   "cell_type": "code",
   "execution_count": 10,
   "metadata": {},
   "outputs": [],
   "source": [
    "def solution1(X):\n",
    "    i=0\n",
    "    while fib(i)<X:\n",
    "        i=i+1\n",
    "    d1=X-fib(i-1)\n",
    "    d2=fib(i)-X\n",
    "    return min(d1,d2)"
   ]
  },
  {
   "cell_type": "code",
   "execution_count": 11,
   "metadata": {},
   "outputs": [
    {
     "data": {
      "text/plain": [
       "2"
      ]
     },
     "execution_count": 11,
     "metadata": {},
     "output_type": "execute_result"
    }
   ],
   "source": [
    "solution1(15)"
   ]
  },
  {
   "cell_type": "code",
   "execution_count": 12,
   "metadata": {},
   "outputs": [
    {
     "data": {
      "text/plain": [
       "1"
      ]
     },
     "execution_count": 12,
     "metadata": {},
     "output_type": "execute_result"
    }
   ],
   "source": [
    "solution1(9)"
   ]
  },
  {
   "cell_type": "markdown",
   "metadata": {},
   "source": [
    "# 2\n",
    "Decode an integer to its hexadecimal representation with upper case and replace 0 wit O and 1 with I in this representation and if the number is not hexapeak return ERROR. A string is hexpeak if it contains \"ABCDEFIO\"."
   ]
  },
  {
   "cell_type": "code",
   "execution_count": 5,
   "metadata": {},
   "outputs": [],
   "source": [
    "def hexpeak(s):\n",
    "    if ('A' in s) or ('B' in s) or ('C' in s) or ('D' in s) or ('E' in s) or ('F' in s) or ('I' in s) or ('O' in s):\n",
    "        return True\n",
    "    else:\n",
    "        return False"
   ]
  },
  {
   "cell_type": "code",
   "execution_count": 6,
   "metadata": {},
   "outputs": [],
   "source": [
    "def solution2(S):\n",
    "    hx=hex(int(S))[2:].upper()\n",
    "    hx=hx.replace('1','I')\n",
    "    hx=hx.replace('0','O')\n",
    "    if hexpeak(hx):\n",
    "        return hx\n",
    "    else:\n",
    "        return \"ERROR\"\n"
   ]
  },
  {
   "cell_type": "code",
   "execution_count": 8,
   "metadata": {},
   "outputs": [
    {
     "data": {
      "text/plain": [
       "'F5A23I9'"
      ]
     },
     "execution_count": 8,
     "metadata": {},
     "output_type": "execute_result"
    }
   ],
   "source": [
    "solution2(\"257565465\")"
   ]
  },
  {
   "cell_type": "code",
   "execution_count": 9,
   "metadata": {},
   "outputs": [
    {
     "data": {
      "text/plain": [
       "'ERROR'"
      ]
     },
     "execution_count": 9,
     "metadata": {},
     "output_type": "execute_result"
    }
   ],
   "source": [
    "solution2(\"3\")"
   ]
  },
  {
   "cell_type": "code",
   "execution_count": null,
   "metadata": {},
   "outputs": [],
   "source": []
  }
 ],
 "metadata": {
  "kernelspec": {
   "display_name": "Python 3",
   "language": "python",
   "name": "python3"
  },
  "language_info": {
   "codemirror_mode": {
    "name": "ipython",
    "version": 3
   },
   "file_extension": ".py",
   "mimetype": "text/x-python",
   "name": "python",
   "nbconvert_exporter": "python",
   "pygments_lexer": "ipython3",
   "version": "3.7.3"
  }
 },
 "nbformat": 4,
 "nbformat_minor": 2
}
